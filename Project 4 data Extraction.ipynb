{
 "cells": [
  {
   "cell_type": "markdown",
   "metadata": {},
   "source": [
    "<b> In this document, the document will show how I apply knowledge to extract the data by using web scrapping from libraies: Beautiful Soup and Scrapy"
   ]
  },
  {
   "cell_type": "markdown",
   "metadata": {
    "heading_collapsed": true
   },
   "source": [
    "# Web scrapping "
   ]
  },
  {
   "cell_type": "markdown",
   "metadata": {
    "hidden": true
   },
   "source": [
    "<b> Basically, I use BeautifulSoup to get all the link and extract html out reach page and collect it in the table as csv file to extract the data from thee html. "
   ]
  },
  {
   "cell_type": "code",
   "execution_count": 2,
   "metadata": {
    "hidden": true
   },
   "outputs": [],
   "source": [
    "import requests\n",
    "from bs4 import BeautifulSoup\n",
    "import pandas as pd"
   ]
  },
  {
   "cell_type": "code",
   "execution_count": 3,
   "metadata": {
    "hidden": true
   },
   "outputs": [
    {
     "data": {
      "text/plain": [
       "4188"
      ]
     },
     "execution_count": 3,
     "metadata": {},
     "output_type": "execute_result"
    }
   ],
   "source": [
    "link=[]\n",
    "for i in range(1,200):\n",
    "\n",
    "    url_bts = 'https://www.seek.com.au/Data-jobs?page='+str(i)\n",
    "\n",
    "    res_bts= requests.get(url_bts)\n",
    "    soup_bts = BeautifulSoup(res_bts.text, 'lxml')\n",
    "\n",
    "    titles= soup_bts.find_all('article')\n",
    "    for i in titles:\n",
    "\n",
    "        url=i.find('div')['href']\n",
    "        link.append(url)\n",
    "len(link)"
   ]
  },
  {
   "cell_type": "code",
   "execution_count": null,
   "metadata": {
    "hidden": true
   },
   "outputs": [],
   "source": [
    "firstsetlink= pd.DataFrame(link,columns=['link'])\n",
    "firstsetlink.to_csv('seek200pagesdata.csv')"
   ]
  },
  {
   "cell_type": "code",
   "execution_count": null,
   "metadata": {
    "hidden": true
   },
   "outputs": [],
   "source": [
    "# use this code to extract HTML from every page to store in CSV file\n",
    "html=[]\n",
    "for detial_link in link:\n",
    "    url='https://www.seek.com.au'+ str(detial_link)\n",
    "    res_bts= requests.get(url)\n",
    "    soup_bts = BeautifulSoup(res_bts.content, 'lxml')\n",
    "    html.append(soup_bts)\n"
   ]
  },
  {
   "cell_type": "code",
   "execution_count": null,
   "metadata": {
    "hidden": true
   },
   "outputs": [],
   "source": [
    "firstsetlink['html']=html\n",
    "firstsetlink.to_csv('rawhtml1.csv')"
   ]
  },
  {
   "cell_type": "code",
   "execution_count": null,
   "metadata": {
    "hidden": true
   },
   "outputs": [],
   "source": []
  },
  {
   "cell_type": "markdown",
   "metadata": {
    "heading_collapsed": true
   },
   "source": [
    "# Extract data from scraping(html) using scrapy"
   ]
  },
  {
   "cell_type": "code",
   "execution_count": 4,
   "metadata": {
    "hidden": true
   },
   "outputs": [],
   "source": [
    "import requests\n",
    "from bs4 import BeautifulSoup\n",
    "import pandas as pd"
   ]
  },
  {
   "cell_type": "code",
   "execution_count": 5,
   "metadata": {
    "hidden": true
   },
   "outputs": [],
   "source": [
    "import pandas as pd\n",
    "import requests\n",
    "from scrapy.selector import Selector\n",
    "raw_html=pd.read_csv('rawhtml1.csv')"
   ]
  },
  {
   "cell_type": "markdown",
   "metadata": {
    "hidden": true
   },
   "source": [
    "read_csv file name 'rawhtml1.csv'"
   ]
  },
  {
   "cell_type": "code",
   "execution_count": 6,
   "metadata": {
    "hidden": true,
    "scrolled": true
   },
   "outputs": [
    {
     "data": {
      "text/plain": [
       "'/job/41350245?type=promoted#searchRequestToken=431915bd-e570-4e4d-8f1e-27140adaf7bc'"
      ]
     },
     "execution_count": 6,
     "metadata": {},
     "output_type": "execute_result"
    }
   ],
   "source": [
    "raw_html.link[0]"
   ]
  },
  {
   "cell_type": "code",
   "execution_count": 7,
   "metadata": {
    "hidden": true,
    "scrolled": true
   },
   "outputs": [
    {
     "data": {
      "text/plain": [
       "(4196, 3)"
      ]
     },
     "execution_count": 7,
     "metadata": {},
     "output_type": "execute_result"
    }
   ],
   "source": [
    "raw_html.shape"
   ]
  },
  {
   "cell_type": "code",
   "execution_count": 8,
   "metadata": {
    "hidden": true
   },
   "outputs": [
    {
     "data": {
      "text/html": [
       "<div>\n",
       "<style scoped>\n",
       "    .dataframe tbody tr th:only-of-type {\n",
       "        vertical-align: middle;\n",
       "    }\n",
       "\n",
       "    .dataframe tbody tr th {\n",
       "        vertical-align: top;\n",
       "    }\n",
       "\n",
       "    .dataframe thead th {\n",
       "        text-align: right;\n",
       "    }\n",
       "</style>\n",
       "<table border=\"1\" class=\"dataframe\">\n",
       "  <thead>\n",
       "    <tr style=\"text-align: right;\">\n",
       "      <th></th>\n",
       "      <th>Unnamed: 0</th>\n",
       "      <th>link</th>\n",
       "      <th>html</th>\n",
       "    </tr>\n",
       "  </thead>\n",
       "  <tbody>\n",
       "    <tr>\n",
       "      <th>0</th>\n",
       "      <td>0</td>\n",
       "      <td>/job/41350245?type=promoted#searchRequestToken...</td>\n",
       "      <td>&lt;!DOCTYPE html&gt;\\n&lt;html lang=\"en\" prefix=\"og: h...</td>\n",
       "    </tr>\n",
       "    <tr>\n",
       "      <th>1</th>\n",
       "      <td>1</td>\n",
       "      <td>/job/41347509?type=promoted#searchRequestToken...</td>\n",
       "      <td>&lt;!DOCTYPE html&gt;\\n&lt;html lang=\"en\" prefix=\"og: h...</td>\n",
       "    </tr>\n",
       "    <tr>\n",
       "      <th>2</th>\n",
       "      <td>2</td>\n",
       "      <td>/job/41350141?type=standout#searchRequestToken...</td>\n",
       "      <td>&lt;!DOCTYPE html&gt;\\n&lt;html lang=\"en\" prefix=\"og: h...</td>\n",
       "    </tr>\n",
       "    <tr>\n",
       "      <th>3</th>\n",
       "      <td>3</td>\n",
       "      <td>/job/41353416?type=standard#searchRequestToken...</td>\n",
       "      <td>&lt;!DOCTYPE html&gt;\\n&lt;html lang=\"en\" prefix=\"og: h...</td>\n",
       "    </tr>\n",
       "    <tr>\n",
       "      <th>4</th>\n",
       "      <td>4</td>\n",
       "      <td>/job/41350606?type=standard#searchRequestToken...</td>\n",
       "      <td>&lt;!DOCTYPE html&gt;\\n&lt;html lang=\"en\" prefix=\"og: h...</td>\n",
       "    </tr>\n",
       "    <tr>\n",
       "      <th>...</th>\n",
       "      <td>...</td>\n",
       "      <td>...</td>\n",
       "      <td>...</td>\n",
       "    </tr>\n",
       "    <tr>\n",
       "      <th>4191</th>\n",
       "      <td>4191</td>\n",
       "      <td>/job/41330043?type=standout#searchRequestToken...</td>\n",
       "      <td>&lt;!DOCTYPE html&gt;\\n&lt;html lang=\"en\" prefix=\"og: h...</td>\n",
       "    </tr>\n",
       "    <tr>\n",
       "      <th>4192</th>\n",
       "      <td>4192</td>\n",
       "      <td>/job/41330200?type=standout#searchRequestToken...</td>\n",
       "      <td>&lt;!DOCTYPE html&gt;\\n&lt;html lang=\"en\" prefix=\"og: h...</td>\n",
       "    </tr>\n",
       "    <tr>\n",
       "      <th>4193</th>\n",
       "      <td>4193</td>\n",
       "      <td>/job/41335205?type=standard#searchRequestToken...</td>\n",
       "      <td>&lt;!DOCTYPE html&gt;\\n&lt;html lang=\"en\" prefix=\"og: h...</td>\n",
       "    </tr>\n",
       "    <tr>\n",
       "      <th>4194</th>\n",
       "      <td>4194</td>\n",
       "      <td>/job/41337844?type=standard#searchRequestToken...</td>\n",
       "      <td>&lt;!DOCTYPE html&gt;\\n&lt;html lang=\"en\" prefix=\"og: h...</td>\n",
       "    </tr>\n",
       "    <tr>\n",
       "      <th>4195</th>\n",
       "      <td>4195</td>\n",
       "      <td>/job/41331087?type=standard#searchRequestToken...</td>\n",
       "      <td>&lt;!DOCTYPE html&gt;\\n&lt;html lang=\"en\" prefix=\"og: h...</td>\n",
       "    </tr>\n",
       "  </tbody>\n",
       "</table>\n",
       "<p>4196 rows × 3 columns</p>\n",
       "</div>"
      ],
      "text/plain": [
       "      Unnamed: 0                                               link  \\\n",
       "0              0  /job/41350245?type=promoted#searchRequestToken...   \n",
       "1              1  /job/41347509?type=promoted#searchRequestToken...   \n",
       "2              2  /job/41350141?type=standout#searchRequestToken...   \n",
       "3              3  /job/41353416?type=standard#searchRequestToken...   \n",
       "4              4  /job/41350606?type=standard#searchRequestToken...   \n",
       "...          ...                                                ...   \n",
       "4191        4191  /job/41330043?type=standout#searchRequestToken...   \n",
       "4192        4192  /job/41330200?type=standout#searchRequestToken...   \n",
       "4193        4193  /job/41335205?type=standard#searchRequestToken...   \n",
       "4194        4194  /job/41337844?type=standard#searchRequestToken...   \n",
       "4195        4195  /job/41331087?type=standard#searchRequestToken...   \n",
       "\n",
       "                                                   html  \n",
       "0     <!DOCTYPE html>\\n<html lang=\"en\" prefix=\"og: h...  \n",
       "1     <!DOCTYPE html>\\n<html lang=\"en\" prefix=\"og: h...  \n",
       "2     <!DOCTYPE html>\\n<html lang=\"en\" prefix=\"og: h...  \n",
       "3     <!DOCTYPE html>\\n<html lang=\"en\" prefix=\"og: h...  \n",
       "4     <!DOCTYPE html>\\n<html lang=\"en\" prefix=\"og: h...  \n",
       "...                                                 ...  \n",
       "4191  <!DOCTYPE html>\\n<html lang=\"en\" prefix=\"og: h...  \n",
       "4192  <!DOCTYPE html>\\n<html lang=\"en\" prefix=\"og: h...  \n",
       "4193  <!DOCTYPE html>\\n<html lang=\"en\" prefix=\"og: h...  \n",
       "4194  <!DOCTYPE html>\\n<html lang=\"en\" prefix=\"og: h...  \n",
       "4195  <!DOCTYPE html>\\n<html lang=\"en\" prefix=\"og: h...  \n",
       "\n",
       "[4196 rows x 3 columns]"
      ]
     },
     "execution_count": 8,
     "metadata": {},
     "output_type": "execute_result"
    }
   ],
   "source": [
    "raw_html"
   ]
  },
  {
   "cell_type": "code",
   "execution_count": null,
   "metadata": {
    "hidden": true
   },
   "outputs": [],
   "source": []
  },
  {
   "cell_type": "markdown",
   "metadata": {
    "hidden": true
   },
   "source": [
    "<b> here is a code to which use as a function that will extract the full job description out of the html. \n",
    "    \n",
    "credit: JP"
   ]
  },
  {
   "cell_type": "code",
   "execution_count": 21,
   "metadata": {
    "hidden": true
   },
   "outputs": [],
   "source": [
    "from bs4 import BeautifulSoup\n",
    "import unicodedata\n",
    "def parser(html):\n",
    "    text1 = BeautifulSoup(html).get_text()\n",
    "    text2 = BeautifulSoup(text1).get_text()\n",
    "    while text1 != text2:\n",
    "        text1 = BeautifulSoup(text2).get_text()\n",
    "        text2 = BeautifulSoup(text1).get_text()\n",
    "    else:\n",
    "        clean_text = unicodedata.normalize(\"NFKD\",text2)\n",
    "        return clean_text"
   ]
  },
  {
   "cell_type": "code",
   "execution_count": null,
   "metadata": {
    "hidden": true
   },
   "outputs": [],
   "source": []
  },
  {
   "cell_type": "markdown",
   "metadata": {
    "hidden": true
   },
   "source": [
    "<b> this one is a piece of code that I use to test my xpath to apply in the whole big scrapy code"
   ]
  },
  {
   "cell_type": "code",
   "execution_count": null,
   "metadata": {
    "hidden": true
   },
   "outputs": [],
   "source": [
    "# Xpath tester\n",
    "# use this one to find a xpath + method to find the proper solution to extract data\n",
    "\n",
    "xpath_salary5='//*[@id=\"app\"]/div/div/div[3]/div/div[2]/div/div/div[2]/div/div[2]/div/aside/span/div[4]/div/div/div/div/div[1]/div/div[2]/div[2]/span[2]'\n",
    "xpath_salary4='//*[@id=\"app\"]/div/div/div[3]/div/div[2]/div/div/div[2]/div/div[2]/div/aside/span/div[4]/div/div/div/div/div[1]/div/div[2]/div[2]/span[2]'\n",
    "xpath_salary6='#app > div > div > div:nth-child(5) > div > div.FYwKg._1GKx8_2 > div > div > div:nth-child(2) > div > div.FYwKg._20Cd9.BIdp3._3Ve9Z > div > aside > span > div:nth-child(3) > div > div > div > div > div:nth-child(2) > div > div:nth-child(2) > div.lmis-cg-salary-bottom > span.lmis-cg-salary-mode'\n",
    "xpath_industry='//*[contains(concat( \" \", @class, \" \" ), concat( \" \", \"Pdwn1mb\", \" \" ))]//div//strong/text()'\n",
    "xpath_worktype='/html/body/div/div/div/div[3]/div/div[2]/div/div/div[2]/div/div[2]/div/aside/span/div[2]/div/section/dl/dd[3]/span/span/text()'\n",
    "test=[]\n",
    "\n",
    "\n",
    "\n",
    "HTML=raw_html['html'][1]\n",
    "xpath_selector = Selector(text=HTML)\n",
    "tester=xpath_selector.css(xpath_salary6).get()\n",
    "test.append(tester)\n",
    "print(tester)\n",
    "\n",
    "HTML"
   ]
  },
  {
   "cell_type": "markdown",
   "metadata": {
    "hidden": true
   },
   "source": [
    "<b> the code below I use try and except, Xpath to extract the data from the html I scrap."
   ]
  },
  {
   "cell_type": "code",
   "execution_count": 13,
   "metadata": {
    "hidden": true
   },
   "outputs": [],
   "source": [
    "xpath_titles='/html/body/div/div/div/div[3]/div/div[2]/div/div/div[2]/div/div[1]/div/div[2]/article/section/span[2]/span/h1/text()'\n",
    "xpath_date='/html/body/div/div/div/div[3]/div/div[2]/div/div/div[2]/div/div[2]/div/aside/span/div[2]/div/section/dl/dd[1]/span/span/text()'\n",
    "xpath_company='/html/body/div/div/div/div[3]/div/div[2]/div/div/div[2]/div/div[1]/div/div[2]/article/section/h2/span[2]/span/text()'\n",
    "xpath_description='//div[@data-automation=\"jobDescription\"]'\n",
    "xpath_industry='//*[contains(concat( \" \", @class, \" \" ), concat( \" \", \"Pdwn1mb\", \" \" ))]//div//strong/text()'\n",
    "xpath_location='/html/body/div/div/div/div[3]/div/div[2]/div/div/div[2]/div/div[2]/div/aside/span/div[2]/div/section/dl/dd[2]/span/span/strong/text()'\n",
    "xpath_area='/html/body/div/div/div/div[3]/div/div[2]/div/div/div[2]/div/div[2]/div/aside/span/div[2]/div/section/dl/dd[2]/span/span/span/text()'\n",
    "xpath_worktype='/html/body/div/div/div/div[3]/div/div[2]/div/div/div[2]/div/div[2]/div/aside/span/div[2]/div/section/dl/dd[3]/span/span/text()'\n",
    "xpath_salary='/html/body/div/div/div/div[3]/div/div[2]/div/div/div[2]/div/div[1]/div/div[2]/article/span[2]/section/dl/div[1]/dd/span/span/text()'\n",
    "\n",
    "\n",
    "\n",
    "titles=[]\n",
    "date=[]\n",
    "company=[]\n",
    "description=[]\n",
    "industry=[]\n",
    "location=[]\n",
    "area=[]\n",
    "worktype=[]\n",
    "salary=[]\n",
    "salary_mode=[]\n",
    "for i in range(0,4174):\n",
    "\n",
    "    HTML=raw_html['html'][i]\n",
    "    xpath_selector = Selector(text=HTML)\n",
    "    try:\n",
    "        Titles=xpath_selector.xpath(xpath_titles).extract()[0]\n",
    "        titles.append(Titles)\n",
    "    except:\n",
    "        titles.append(None)\n",
    "    try:\n",
    "        Date=xpath_selector.xpath(xpath_date).extract()[0]\n",
    "        date.append(Date)\n",
    "    except:\n",
    "        date.append(None)\n",
    "    try:\n",
    "        Company=xpath_selector.xpath(xpath_company).extract()[0]\n",
    "        company.append(Company)\n",
    "    except:\n",
    "        company.append(None)\n",
    "    try:\n",
    "        Description=xpath_selector.xpath(xpath_description).extract()[0]\n",
    "        Description=parser(Description)\n",
    "        description.append(Description)\n",
    "    except:\n",
    "        description.append(None)\n",
    "    try:\n",
    "        Industry=xpath_selector.xpath(xpath_industry).extract()[0]\n",
    "        industry.append(Industry)\n",
    "    except:\n",
    "        industry.append(None)\n",
    "    try:\n",
    "        Salary=xpath_selector.xpath(xpath_salary).extract()[0]\n",
    "        salary.append(Salary)\n",
    "    except:\n",
    "        salary.append(None)   \n",
    "\n",
    "    try:\n",
    "        Location=xpath_selector.xpath(xpath_location).extract()[0]\n",
    "        location.append(Location)\n",
    "    except:\n",
    "        location.append(None)\n",
    "    try:\n",
    "        Area=xpath_selector.xpath(xpath_area).extract()[0]\n",
    "        area.append(Area)\n",
    "    except:\n",
    "        area.append(None)\n",
    "    try:\n",
    "        Worktype=xpath_selector.xpath(xpath_worktype).extract()[0]\n",
    "        worktype.append(Worktype)\n",
    "    except:\n",
    "        worktype.append(None)\n"
   ]
  },
  {
   "cell_type": "code",
   "execution_count": 14,
   "metadata": {
    "hidden": true
   },
   "outputs": [],
   "source": [
    "seek_dict={'titles':titles,\n",
    "'date':date,\n",
    "'company':company,\n",
    "'description':description,\n",
    "'industry':industry,\n",
    "'location':location,\n",
    "'area':area,\n",
    "'worktype':worktype,\n",
    "'salary':salary,\n",
    "}\n",
    "\n",
    "columns_name=['titles','date','company','description','industry','location','area','worktype','salary']"
   ]
  },
  {
   "cell_type": "code",
   "execution_count": 15,
   "metadata": {
    "hidden": true
   },
   "outputs": [],
   "source": [
    "seek_df=pd.DataFrame(seek_dict, columns=columns_name)"
   ]
  },
  {
   "cell_type": "code",
   "execution_count": null,
   "metadata": {
    "hidden": true
   },
   "outputs": [],
   "source": []
  },
  {
   "cell_type": "markdown",
   "metadata": {
    "hidden": true
   },
   "source": [
    "Here is the data I got from the scraping which consists of the section as below:"
   ]
  },
  {
   "cell_type": "code",
   "execution_count": 19,
   "metadata": {
    "hidden": true
   },
   "outputs": [
    {
     "data": {
      "text/html": [
       "<div>\n",
       "<style scoped>\n",
       "    .dataframe tbody tr th:only-of-type {\n",
       "        vertical-align: middle;\n",
       "    }\n",
       "\n",
       "    .dataframe tbody tr th {\n",
       "        vertical-align: top;\n",
       "    }\n",
       "\n",
       "    .dataframe thead th {\n",
       "        text-align: right;\n",
       "    }\n",
       "</style>\n",
       "<table border=\"1\" class=\"dataframe\">\n",
       "  <thead>\n",
       "    <tr style=\"text-align: right;\">\n",
       "      <th></th>\n",
       "      <th>titles</th>\n",
       "      <th>date</th>\n",
       "      <th>company</th>\n",
       "      <th>description</th>\n",
       "      <th>industry</th>\n",
       "      <th>location</th>\n",
       "      <th>area</th>\n",
       "      <th>worktype</th>\n",
       "      <th>salary</th>\n",
       "    </tr>\n",
       "  </thead>\n",
       "  <tbody>\n",
       "    <tr>\n",
       "      <th>0</th>\n",
       "      <td>Senior Consultant | Data Platforms &amp; Advanced ...</td>\n",
       "      <td>19 May 2020</td>\n",
       "      <td>Versor Pty Ltd</td>\n",
       "      <td>Senior Consultant | Data Platforms &amp; Advanced ...</td>\n",
       "      <td>Information &amp; Communication Technology</td>\n",
       "      <td>Melbourne</td>\n",
       "      <td>CBD &amp; Inner Suburbs</td>\n",
       "      <td>Full Time</td>\n",
       "      <td>None</td>\n",
       "    </tr>\n",
       "    <tr>\n",
       "      <th>1</th>\n",
       "      <td>Senior Data Engineer - Australia's #1 Home Loa...</td>\n",
       "      <td>18 May 2020</td>\n",
       "      <td>Lendi</td>\n",
       "      <td>Senior Data Engineer - Australia's #1 Home Loa...</td>\n",
       "      <td>Information &amp; Communication Technology</td>\n",
       "      <td>Sydney</td>\n",
       "      <td>CBD, Inner West &amp; Eastern Suburbs</td>\n",
       "      <td>Full Time</td>\n",
       "      <td>None</td>\n",
       "    </tr>\n",
       "    <tr>\n",
       "      <th>2</th>\n",
       "      <td>Technical Business Analyst | Data &amp; Reporting</td>\n",
       "      <td>19 May 2020</td>\n",
       "      <td>Bendigo &amp; Adelaide Bank</td>\n",
       "      <td>Technical Business Analyst | Data &amp; Reporting\\...</td>\n",
       "      <td>Information &amp; Communication Technology</td>\n",
       "      <td>Bendigo, Goldfields &amp; Macedon Ranges</td>\n",
       "      <td>None</td>\n",
       "      <td>Full Time</td>\n",
       "      <td>None</td>\n",
       "    </tr>\n",
       "    <tr>\n",
       "      <th>3</th>\n",
       "      <td>Data and Reporting Analyst</td>\n",
       "      <td>20 May 2020</td>\n",
       "      <td>Jones Lang LaSalle</td>\n",
       "      <td>Data and Reporting Analyst \\n\\nThe impact of b...</td>\n",
       "      <td>Information &amp; Communication Technology</td>\n",
       "      <td>ACT</td>\n",
       "      <td>None</td>\n",
       "      <td>Full Time</td>\n",
       "      <td>None</td>\n",
       "    </tr>\n",
       "    <tr>\n",
       "      <th>4</th>\n",
       "      <td>Data Analyst</td>\n",
       "      <td>19 May 2020</td>\n",
       "      <td>Talent Street</td>\n",
       "      <td>Data Analyst \\n\\nTalent Street is looking for ...</td>\n",
       "      <td>Information &amp; Communication Technology</td>\n",
       "      <td>ACT</td>\n",
       "      <td>None</td>\n",
       "      <td>Contract/Temp</td>\n",
       "      <td>None</td>\n",
       "    </tr>\n",
       "    <tr>\n",
       "      <th>...</th>\n",
       "      <td>...</td>\n",
       "      <td>...</td>\n",
       "      <td>...</td>\n",
       "      <td>...</td>\n",
       "      <td>...</td>\n",
       "      <td>...</td>\n",
       "      <td>...</td>\n",
       "      <td>...</td>\n",
       "      <td>...</td>\n",
       "    </tr>\n",
       "    <tr>\n",
       "      <th>4169</th>\n",
       "      <td>Integration and Test Manager</td>\n",
       "      <td>13 May 2020</td>\n",
       "      <td>Lockheed Martin</td>\n",
       "      <td>Integration and Test Manager \\n\\nAbout us:\\nLo...</td>\n",
       "      <td>Engineering</td>\n",
       "      <td>ACT</td>\n",
       "      <td>None</td>\n",
       "      <td>Full Time</td>\n",
       "      <td>None</td>\n",
       "    </tr>\n",
       "    <tr>\n",
       "      <th>4170</th>\n",
       "      <td>CNC Machinist - Toolmaker</td>\n",
       "      <td>12 May 2020</td>\n",
       "      <td>Ripe Recruitment</td>\n",
       "      <td>CNC Machinist - Toolmaker \\n\\n \\nCOMPANY\\nMy c...</td>\n",
       "      <td>Trades &amp; Services</td>\n",
       "      <td>Sydney</td>\n",
       "      <td>Parramatta &amp; Western Suburbs</td>\n",
       "      <td>Full Time</td>\n",
       "      <td>$25 - $40 per hour depending on experience level</td>\n",
       "    </tr>\n",
       "    <tr>\n",
       "      <th>4171</th>\n",
       "      <td>Director/Manager - Business Strategy Consulting</td>\n",
       "      <td>12 May 2020</td>\n",
       "      <td>Ignite</td>\n",
       "      <td>About the ClientThis data-driven, emerging lea...</td>\n",
       "      <td>CEO &amp; General Management</td>\n",
       "      <td>Melbourne</td>\n",
       "      <td>Bayside &amp; South Eastern Suburbs</td>\n",
       "      <td>Full Time</td>\n",
       "      <td>$150000 per annum</td>\n",
       "    </tr>\n",
       "    <tr>\n",
       "      <th>4172</th>\n",
       "      <td>Administration Team Member</td>\n",
       "      <td>18 May 2020</td>\n",
       "      <td>The Good Guys</td>\n",
       "      <td>Administration Team Member \\n\\n\\nMulti-award w...</td>\n",
       "      <td>Retail &amp; Consumer Products</td>\n",
       "      <td>Melbourne</td>\n",
       "      <td>Bayside &amp; South Eastern Suburbs</td>\n",
       "      <td>Part Time</td>\n",
       "      <td>None</td>\n",
       "    </tr>\n",
       "    <tr>\n",
       "      <th>4173</th>\n",
       "      <td>Administration Team Member</td>\n",
       "      <td>18 May 2020</td>\n",
       "      <td>The Good Guys</td>\n",
       "      <td>Administration Team Member \\n\\n\\nMulti-award w...</td>\n",
       "      <td>Retail &amp; Consumer Products</td>\n",
       "      <td>Mornington Peninsula &amp; Bass Coast</td>\n",
       "      <td>None</td>\n",
       "      <td>Casual/Vacation</td>\n",
       "      <td>None</td>\n",
       "    </tr>\n",
       "  </tbody>\n",
       "</table>\n",
       "<p>4174 rows × 9 columns</p>\n",
       "</div>"
      ],
      "text/plain": [
       "                                                 titles         date  \\\n",
       "0     Senior Consultant | Data Platforms & Advanced ...  19 May 2020   \n",
       "1     Senior Data Engineer - Australia's #1 Home Loa...  18 May 2020   \n",
       "2         Technical Business Analyst | Data & Reporting  19 May 2020   \n",
       "3                            Data and Reporting Analyst  20 May 2020   \n",
       "4                                          Data Analyst  19 May 2020   \n",
       "...                                                 ...          ...   \n",
       "4169                       Integration and Test Manager  13 May 2020   \n",
       "4170                          CNC Machinist - Toolmaker  12 May 2020   \n",
       "4171    Director/Manager - Business Strategy Consulting  12 May 2020   \n",
       "4172                         Administration Team Member  18 May 2020   \n",
       "4173                         Administration Team Member  18 May 2020   \n",
       "\n",
       "                      company  \\\n",
       "0              Versor Pty Ltd   \n",
       "1                       Lendi   \n",
       "2     Bendigo & Adelaide Bank   \n",
       "3          Jones Lang LaSalle   \n",
       "4               Talent Street   \n",
       "...                       ...   \n",
       "4169          Lockheed Martin   \n",
       "4170         Ripe Recruitment   \n",
       "4171                   Ignite   \n",
       "4172            The Good Guys   \n",
       "4173            The Good Guys   \n",
       "\n",
       "                                            description  \\\n",
       "0     Senior Consultant | Data Platforms & Advanced ...   \n",
       "1     Senior Data Engineer - Australia's #1 Home Loa...   \n",
       "2     Technical Business Analyst | Data & Reporting\\...   \n",
       "3     Data and Reporting Analyst \\n\\nThe impact of b...   \n",
       "4     Data Analyst \\n\\nTalent Street is looking for ...   \n",
       "...                                                 ...   \n",
       "4169  Integration and Test Manager \\n\\nAbout us:\\nLo...   \n",
       "4170  CNC Machinist - Toolmaker \\n\\n \\nCOMPANY\\nMy c...   \n",
       "4171  About the ClientThis data-driven, emerging lea...   \n",
       "4172  Administration Team Member \\n\\n\\nMulti-award w...   \n",
       "4173  Administration Team Member \\n\\n\\nMulti-award w...   \n",
       "\n",
       "                                    industry  \\\n",
       "0     Information & Communication Technology   \n",
       "1     Information & Communication Technology   \n",
       "2     Information & Communication Technology   \n",
       "3     Information & Communication Technology   \n",
       "4     Information & Communication Technology   \n",
       "...                                      ...   \n",
       "4169                             Engineering   \n",
       "4170                       Trades & Services   \n",
       "4171                CEO & General Management   \n",
       "4172              Retail & Consumer Products   \n",
       "4173              Retail & Consumer Products   \n",
       "\n",
       "                                  location                               area  \\\n",
       "0                                Melbourne                CBD & Inner Suburbs   \n",
       "1                                   Sydney  CBD, Inner West & Eastern Suburbs   \n",
       "2     Bendigo, Goldfields & Macedon Ranges                               None   \n",
       "3                                      ACT                               None   \n",
       "4                                      ACT                               None   \n",
       "...                                    ...                                ...   \n",
       "4169                                   ACT                               None   \n",
       "4170                                Sydney       Parramatta & Western Suburbs   \n",
       "4171                             Melbourne    Bayside & South Eastern Suburbs   \n",
       "4172                             Melbourne    Bayside & South Eastern Suburbs   \n",
       "4173     Mornington Peninsula & Bass Coast                               None   \n",
       "\n",
       "             worktype                                            salary  \n",
       "0           Full Time                                              None  \n",
       "1           Full Time                                              None  \n",
       "2           Full Time                                              None  \n",
       "3           Full Time                                              None  \n",
       "4       Contract/Temp                                              None  \n",
       "...               ...                                               ...  \n",
       "4169        Full Time                                              None  \n",
       "4170        Full Time  $25 - $40 per hour depending on experience level  \n",
       "4171        Full Time                                 $150000 per annum  \n",
       "4172        Part Time                                              None  \n",
       "4173  Casual/Vacation                                              None  \n",
       "\n",
       "[4174 rows x 9 columns]"
      ]
     },
     "execution_count": 19,
     "metadata": {},
     "output_type": "execute_result"
    }
   ],
   "source": [
    "seek_df"
   ]
  },
  {
   "cell_type": "code",
   "execution_count": 20,
   "metadata": {
    "hidden": true
   },
   "outputs": [
    {
     "data": {
      "text/plain": [
       "(4174, 9)"
      ]
     },
     "execution_count": 20,
     "metadata": {},
     "output_type": "execute_result"
    }
   ],
   "source": [
    "seek_df.to_csv('seek_df.csv')\n",
    "seek_df.shape"
   ]
  },
  {
   "cell_type": "markdown",
   "metadata": {
    "heading_collapsed": true
   },
   "source": [
    "# Clean data"
   ]
  },
  {
   "cell_type": "markdown",
   "metadata": {
    "hidden": true
   },
   "source": [
    "<b>Due to the limit of time, I can nor manage to finish this part. So, I will use the Data Frame. provided to do the analysis of the model including EDA and cleaning"
   ]
  },
  {
   "cell_type": "code",
   "execution_count": 656,
   "metadata": {
    "hidden": true
   },
   "outputs": [],
   "source": [
    "clean_data=seek_df.dropna(axis=0)"
   ]
  },
  {
   "cell_type": "code",
   "execution_count": 657,
   "metadata": {
    "hidden": true
   },
   "outputs": [
    {
     "data": {
      "text/plain": [
       "(938, 9)"
      ]
     },
     "execution_count": 657,
     "metadata": {},
     "output_type": "execute_result"
    }
   ],
   "source": [
    "clean_data.shape"
   ]
  },
  {
   "cell_type": "code",
   "execution_count": 658,
   "metadata": {
    "hidden": true
   },
   "outputs": [
    {
     "data": {
      "text/html": [
       "<div>\n",
       "<style scoped>\n",
       "    .dataframe tbody tr th:only-of-type {\n",
       "        vertical-align: middle;\n",
       "    }\n",
       "\n",
       "    .dataframe tbody tr th {\n",
       "        vertical-align: top;\n",
       "    }\n",
       "\n",
       "    .dataframe thead th {\n",
       "        text-align: right;\n",
       "    }\n",
       "</style>\n",
       "<table border=\"1\" class=\"dataframe\">\n",
       "  <thead>\n",
       "    <tr style=\"text-align: right;\">\n",
       "      <th></th>\n",
       "      <th>titles</th>\n",
       "      <th>date</th>\n",
       "      <th>company</th>\n",
       "      <th>description</th>\n",
       "      <th>industry</th>\n",
       "      <th>location</th>\n",
       "      <th>area</th>\n",
       "      <th>worktype</th>\n",
       "      <th>salary</th>\n",
       "    </tr>\n",
       "  </thead>\n",
       "  <tbody>\n",
       "    <tr>\n",
       "      <th>11</th>\n",
       "      <td>Data Analyst, Data Governance &amp; Management</td>\n",
       "      <td>18 May 2020</td>\n",
       "      <td>Cancer Institute NSW</td>\n",
       "      <td>Data Analyst, Data Governance &amp; Management  Em...</td>\n",
       "      <td>Government &amp; Defence</td>\n",
       "      <td>Sydney</td>\n",
       "      <td>CBD, Inner West &amp; Eastern Suburbs</td>\n",
       "      <td>Full Time</td>\n",
       "      <td>Remuneration: $97,812 - $116,013 per annum</td>\n",
       "    </tr>\n",
       "    <tr>\n",
       "      <th>14</th>\n",
       "      <td>Senior Data Analyst</td>\n",
       "      <td>19 May 2020</td>\n",
       "      <td>NSW Department of Family and Community Services</td>\n",
       "      <td>Senior Data Analyst     Senior Data Analyst  C...</td>\n",
       "      <td>Government &amp; Defence</td>\n",
       "      <td>Sydney</td>\n",
       "      <td>Parramatta &amp; Western Suburbs</td>\n",
       "      <td>Contract/Temp</td>\n",
       "      <td>$110,745 - $122,038 pa plus Super &amp; leave loading</td>\n",
       "    </tr>\n",
       "    <tr>\n",
       "      <th>16</th>\n",
       "      <td>Credit Data Analyst</td>\n",
       "      <td>20 May 2020</td>\n",
       "      <td>FourQuarters Recruitment</td>\n",
       "      <td>Credit Data Analyst   Must be available for IM...</td>\n",
       "      <td>Information &amp; Communication Technology</td>\n",
       "      <td>Melbourne</td>\n",
       "      <td>CBD &amp; Inner Suburbs</td>\n",
       "      <td>Full Time</td>\n",
       "      <td>$100000</td>\n",
       "    </tr>\n",
       "    <tr>\n",
       "      <th>20</th>\n",
       "      <td>Data Analyst</td>\n",
       "      <td>15 May 2020</td>\n",
       "      <td>oOh! Media</td>\n",
       "      <td>Data Analyst   Step into our world and discove...</td>\n",
       "      <td>Information &amp; Communication Technology</td>\n",
       "      <td>Sydney</td>\n",
       "      <td>North Shore &amp; Northern Beaches</td>\n",
       "      <td>Contract/Temp</td>\n",
       "      <td>Attractive salary package</td>\n",
       "    </tr>\n",
       "    <tr>\n",
       "      <th>21</th>\n",
       "      <td>Data Analyst -Fraud</td>\n",
       "      <td>19 May 2020</td>\n",
       "      <td>Ashdown People</td>\n",
       "      <td>Data Analyst -Fraud   5 Month Contract  Centra...</td>\n",
       "      <td>Information &amp; Communication Technology</td>\n",
       "      <td>Sydney</td>\n",
       "      <td>CBD, Inner West &amp; Eastern Suburbs</td>\n",
       "      <td>Contract/Temp</td>\n",
       "      <td>$630 per day + super</td>\n",
       "    </tr>\n",
       "    <tr>\n",
       "      <th>...</th>\n",
       "      <td>...</td>\n",
       "      <td>...</td>\n",
       "      <td>...</td>\n",
       "      <td>...</td>\n",
       "      <td>...</td>\n",
       "      <td>...</td>\n",
       "      <td>...</td>\n",
       "      <td>...</td>\n",
       "      <td>...</td>\n",
       "    </tr>\n",
       "    <tr>\n",
       "      <th>4150</th>\n",
       "      <td>Assistant Planner</td>\n",
       "      <td>19 May 2020</td>\n",
       "      <td>Vida Glow Pty Ltd</td>\n",
       "      <td>Vida Glow is a fast-growing global company tha...</td>\n",
       "      <td>Manufacturing, Transport &amp; Logistics</td>\n",
       "      <td>Sydney</td>\n",
       "      <td>CBD, Inner West &amp; Eastern Suburbs</td>\n",
       "      <td>Full Time</td>\n",
       "      <td>$70,000 - $79,999</td>\n",
       "    </tr>\n",
       "    <tr>\n",
       "      <th>4155</th>\n",
       "      <td>National Bid Coordinator</td>\n",
       "      <td>19 May 2020</td>\n",
       "      <td>Smart Cleaning Solutions</td>\n",
       "      <td>National Bid Co-ordinator Smart Cleaning Solut...</td>\n",
       "      <td>Marketing &amp; Communications</td>\n",
       "      <td>Melbourne</td>\n",
       "      <td>Eastern Suburbs</td>\n",
       "      <td>Full Time</td>\n",
       "      <td>$120,000 - $129,999</td>\n",
       "    </tr>\n",
       "    <tr>\n",
       "      <th>4156</th>\n",
       "      <td>Digital Content Designer</td>\n",
       "      <td>19 May 2020</td>\n",
       "      <td>Woolworths Group</td>\n",
       "      <td>Digital Content Designer      Digital Content ...</td>\n",
       "      <td>Design &amp; Architecture</td>\n",
       "      <td>Sydney</td>\n",
       "      <td>CBD, Inner West &amp; Eastern Suburbs</td>\n",
       "      <td>Full Time</td>\n",
       "      <td>Your path to many possible futures</td>\n",
       "    </tr>\n",
       "    <tr>\n",
       "      <th>4170</th>\n",
       "      <td>CNC Machinist - Toolmaker</td>\n",
       "      <td>12 May 2020</td>\n",
       "      <td>Ripe Recruitment</td>\n",
       "      <td>CNC Machinist - Toolmaker     COMPANY My clien...</td>\n",
       "      <td>Trades &amp; Services</td>\n",
       "      <td>Sydney</td>\n",
       "      <td>Parramatta &amp; Western Suburbs</td>\n",
       "      <td>Full Time</td>\n",
       "      <td>$25 - $40 per hour depending on experience level</td>\n",
       "    </tr>\n",
       "    <tr>\n",
       "      <th>4171</th>\n",
       "      <td>Director/Manager - Business Strategy Consulting</td>\n",
       "      <td>12 May 2020</td>\n",
       "      <td>Ignite</td>\n",
       "      <td>About the ClientThis data-driven, emerging lea...</td>\n",
       "      <td>CEO &amp; General Management</td>\n",
       "      <td>Melbourne</td>\n",
       "      <td>Bayside &amp; South Eastern Suburbs</td>\n",
       "      <td>Full Time</td>\n",
       "      <td>$150000 per annum</td>\n",
       "    </tr>\n",
       "  </tbody>\n",
       "</table>\n",
       "<p>938 rows × 9 columns</p>\n",
       "</div>"
      ],
      "text/plain": [
       "                                               titles         date  \\\n",
       "11         Data Analyst, Data Governance & Management  18 May 2020   \n",
       "14                                Senior Data Analyst  19 May 2020   \n",
       "16                                Credit Data Analyst  20 May 2020   \n",
       "20                                       Data Analyst  15 May 2020   \n",
       "21                                Data Analyst -Fraud  19 May 2020   \n",
       "...                                               ...          ...   \n",
       "4150                                Assistant Planner  19 May 2020   \n",
       "4155                         National Bid Coordinator  19 May 2020   \n",
       "4156                         Digital Content Designer  19 May 2020   \n",
       "4170                        CNC Machinist - Toolmaker  12 May 2020   \n",
       "4171  Director/Manager - Business Strategy Consulting  12 May 2020   \n",
       "\n",
       "                                              company  \\\n",
       "11                               Cancer Institute NSW   \n",
       "14    NSW Department of Family and Community Services   \n",
       "16                           FourQuarters Recruitment   \n",
       "20                                         oOh! Media   \n",
       "21                                     Ashdown People   \n",
       "...                                               ...   \n",
       "4150                                Vida Glow Pty Ltd   \n",
       "4155                         Smart Cleaning Solutions   \n",
       "4156                                 Woolworths Group   \n",
       "4170                                 Ripe Recruitment   \n",
       "4171                                           Ignite   \n",
       "\n",
       "                                            description  \\\n",
       "11    Data Analyst, Data Governance & Management  Em...   \n",
       "14    Senior Data Analyst     Senior Data Analyst  C...   \n",
       "16    Credit Data Analyst   Must be available for IM...   \n",
       "20    Data Analyst   Step into our world and discove...   \n",
       "21    Data Analyst -Fraud   5 Month Contract  Centra...   \n",
       "...                                                 ...   \n",
       "4150  Vida Glow is a fast-growing global company tha...   \n",
       "4155  National Bid Co-ordinator Smart Cleaning Solut...   \n",
       "4156  Digital Content Designer      Digital Content ...   \n",
       "4170  CNC Machinist - Toolmaker     COMPANY My clien...   \n",
       "4171  About the ClientThis data-driven, emerging lea...   \n",
       "\n",
       "                                    industry   location  \\\n",
       "11                      Government & Defence     Sydney   \n",
       "14                      Government & Defence     Sydney   \n",
       "16    Information & Communication Technology  Melbourne   \n",
       "20    Information & Communication Technology     Sydney   \n",
       "21    Information & Communication Technology     Sydney   \n",
       "...                                      ...        ...   \n",
       "4150    Manufacturing, Transport & Logistics     Sydney   \n",
       "4155              Marketing & Communications  Melbourne   \n",
       "4156                   Design & Architecture     Sydney   \n",
       "4170                       Trades & Services     Sydney   \n",
       "4171                CEO & General Management  Melbourne   \n",
       "\n",
       "                                   area       worktype  \\\n",
       "11    CBD, Inner West & Eastern Suburbs      Full Time   \n",
       "14         Parramatta & Western Suburbs  Contract/Temp   \n",
       "16                  CBD & Inner Suburbs      Full Time   \n",
       "20       North Shore & Northern Beaches  Contract/Temp   \n",
       "21    CBD, Inner West & Eastern Suburbs  Contract/Temp   \n",
       "...                                 ...            ...   \n",
       "4150  CBD, Inner West & Eastern Suburbs      Full Time   \n",
       "4155                    Eastern Suburbs      Full Time   \n",
       "4156  CBD, Inner West & Eastern Suburbs      Full Time   \n",
       "4170       Parramatta & Western Suburbs      Full Time   \n",
       "4171    Bayside & South Eastern Suburbs      Full Time   \n",
       "\n",
       "                                                 salary  \n",
       "11           Remuneration: $97,812 - $116,013 per annum  \n",
       "14    $110,745 - $122,038 pa plus Super & leave loading  \n",
       "16                                              $100000  \n",
       "20                            Attractive salary package  \n",
       "21                                 $630 per day + super  \n",
       "...                                                 ...  \n",
       "4150                                  $70,000 - $79,999  \n",
       "4155                                $120,000 - $129,999  \n",
       "4156                 Your path to many possible futures  \n",
       "4170   $25 - $40 per hour depending on experience level  \n",
       "4171                                  $150000 per annum  \n",
       "\n",
       "[938 rows x 9 columns]"
      ]
     },
     "execution_count": 658,
     "metadata": {},
     "output_type": "execute_result"
    }
   ],
   "source": [
    "clean_data"
   ]
  },
  {
   "cell_type": "code",
   "execution_count": 659,
   "metadata": {
    "hidden": true
   },
   "outputs": [],
   "source": [
    "import re\n",
    "import string"
   ]
  },
  {
   "cell_type": "code",
   "execution_count": 660,
   "metadata": {
    "hidden": true
   },
   "outputs": [
    {
     "data": {
      "text/plain": [
       "titles         object\n",
       "date           object\n",
       "company        object\n",
       "description    object\n",
       "industry       object\n",
       "location       object\n",
       "area           object\n",
       "worktype       object\n",
       "salary         object\n",
       "dtype: object"
      ]
     },
     "execution_count": 660,
     "metadata": {},
     "output_type": "execute_result"
    }
   ],
   "source": [
    "clean_data.dtypes"
   ]
  },
  {
   "cell_type": "code",
   "execution_count": 661,
   "metadata": {
    "hidden": true
   },
   "outputs": [
    {
     "data": {
      "text/plain": [
       "(938, 9)"
      ]
     },
     "execution_count": 661,
     "metadata": {},
     "output_type": "execute_result"
    }
   ],
   "source": [
    "clean_data.shape"
   ]
  },
  {
   "cell_type": "code",
   "execution_count": 662,
   "metadata": {
    "hidden": true
   },
   "outputs": [
    {
     "name": "stdout",
     "output_type": "stream",
     "text": [
      "938\n",
      "938\n"
     ]
    },
    {
     "name": "stderr",
     "output_type": "stream",
     "text": [
      "/opt/anaconda3/lib/python3.7/site-packages/ipykernel_launcher.py:24: SettingWithCopyWarning: \n",
      "A value is trying to be set on a copy of a slice from a DataFrame.\n",
      "Try using .loc[row_indexer,col_indexer] = value instead\n",
      "\n",
      "See the caveats in the documentation: https://pandas.pydata.org/pandas-docs/stable/user_guide/indexing.html#returning-a-view-versus-a-copy\n",
      "/opt/anaconda3/lib/python3.7/site-packages/ipykernel_launcher.py:25: SettingWithCopyWarning: \n",
      "A value is trying to be set on a copy of a slice from a DataFrame.\n",
      "Try using .loc[row_indexer,col_indexer] = value instead\n",
      "\n",
      "See the caveats in the documentation: https://pandas.pydata.org/pandas-docs/stable/user_guide/indexing.html#returning-a-view-versus-a-copy\n"
     ]
    }
   ],
   "source": [
    "minsalary=[]\n",
    "maxsalary=[]\n",
    "for i in clean_data.salary:\n",
    "\n",
    "    s=re.sub('[a-zA-Z]+','',i)\n",
    "    j=re.sub('[^0-9a-zA-Z-]+','',s)\n",
    "    k=j.split(sep='-')\n",
    "    try:\n",
    "        minsalary.append(k[0])\n",
    "    except:\n",
    "        minsalary.append(None)\n",
    "    try:\n",
    "        maxsalary.append(k[1])\n",
    "    except:\n",
    "        maxsalary.append(None)\n",
    "#print(minsalary)\n",
    "#print(maxsalary)\n",
    "\n",
    "print(len(minsalary))\n",
    "print(len(maxsalary))\n",
    "pd.DataFrame({'min':minsalary,'max':maxsalary})\n",
    "\n",
    "\n",
    "clean_data['minsalary']=minsalary\n",
    "clean_data['maxsalary']= maxsalary\n"
   ]
  },
  {
   "cell_type": "code",
   "execution_count": 663,
   "metadata": {
    "hidden": true
   },
   "outputs": [
    {
     "data": {
      "text/plain": [
       "11       97812\n",
       "14      110745\n",
       "16      100000\n",
       "20            \n",
       "21         630\n",
       "         ...  \n",
       "4150     70000\n",
       "4155    120000\n",
       "4156          \n",
       "4170        25\n",
       "4171    150000\n",
       "Name: minsalary, Length: 938, dtype: object"
      ]
     },
     "execution_count": 663,
     "metadata": {},
     "output_type": "execute_result"
    }
   ],
   "source": [
    "clean_data.minsalary"
   ]
  },
  {
   "cell_type": "code",
   "execution_count": 623,
   "metadata": {
    "hidden": true
   },
   "outputs": [],
   "source": [
    "minsalary=[]\n",
    "maxsalary=[]\n",
    "\n",
    "minsalary.append(k[0])\n",
    "try:\n",
    "    maxsalary.append(k[1])\n",
    "except:\n",
    "    maxsalary.append('None')"
   ]
  },
  {
   "cell_type": "code",
   "execution_count": 631,
   "metadata": {
    "hidden": true
   },
   "outputs": [
    {
     "data": {
      "text/plain": [
       "['150000']"
      ]
     },
     "execution_count": 631,
     "metadata": {},
     "output_type": "execute_result"
    }
   ],
   "source": [
    "minsalary"
   ]
  },
  {
   "cell_type": "code",
   "execution_count": null,
   "metadata": {
    "hidden": true
   },
   "outputs": [],
   "source": []
  }
 ],
 "metadata": {
  "kernelspec": {
   "display_name": "Python 3",
   "language": "python",
   "name": "python3"
  },
  "language_info": {
   "codemirror_mode": {
    "name": "ipython",
    "version": 3
   },
   "file_extension": ".py",
   "mimetype": "text/x-python",
   "name": "python",
   "nbconvert_exporter": "python",
   "pygments_lexer": "ipython3",
   "version": "3.8.3"
  },
  "varInspector": {
   "cols": {
    "lenName": 16,
    "lenType": 16,
    "lenVar": 40
   },
   "kernels_config": {
    "python": {
     "delete_cmd_postfix": "",
     "delete_cmd_prefix": "del ",
     "library": "var_list.py",
     "varRefreshCmd": "print(var_dic_list())"
    },
    "r": {
     "delete_cmd_postfix": ") ",
     "delete_cmd_prefix": "rm(",
     "library": "var_list.r",
     "varRefreshCmd": "cat(var_dic_list()) "
    }
   },
   "types_to_exclude": [
    "module",
    "function",
    "builtin_function_or_method",
    "instance",
    "_Feature"
   ],
   "window_display": false
  }
 },
 "nbformat": 4,
 "nbformat_minor": 4
}
